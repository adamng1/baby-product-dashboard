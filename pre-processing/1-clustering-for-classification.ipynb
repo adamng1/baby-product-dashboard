{
 "cells": [
  {
   "cell_type": "markdown",
   "id": "23cd2cb4",
   "metadata": {},
   "source": [
    "# 1. Initial Classification - Clustering"
   ]
  },
  {
   "cell_type": "markdown",
   "id": "ba5cff42",
   "metadata": {},
   "source": [
    "While the baby products dataset has a main_category field, it proves lacking. Many of the categories lack a detailed description, such as 'Baby', or have categories that do not prove meaningful in the context of baby products, such as Amazon Home or Amazon Fashion.\n",
    "\n",
    "As a result, we will use multiple clustering techniques to classify these products into more meaningful categories. In particular, we will use unsupervised learning techniques, creating clusters both via K-Means and via HDBSCAN.\n",
    "\n",
    "In each instance, we will utilize BERT for preprocessing. After evaluating several models during the initial exploratory analysis phase, `all-MiniLM-L6-v2` provides the best balance in terms of speed and classification. We will use this to create the initial embeddings.\n",
    "\n",
    "For the dimension reduction, we will  adjust this depending on the final clustering method. For the K-Means clustering method, we will use PCA. For the HDBSCAN method, we will use UMAP and specifically cosine distancing.\n",
    "\n",
    "Finally, we will perform the actual clustering via either K-Means or HDBSCAN. The former is faster, but has a relatively low silhouette score, whereas the larger has a relatively large DBCV score, but breaks the data into a large number of clusters that, on their own, are too granually and will require additional methods for grouping.\n",
    "\n",
    "The goal of this program will be to produce the resulting analysis and figures from these two clustering methods, as well as output Excel files for further review."
   ]
  },
  {
   "cell_type": "markdown",
   "id": "70639c90",
   "metadata": {},
   "source": [
    "## Data Load and Preprocessing\n",
    "\n",
    "Load the initial dataset for classification. Run preprocessing to clean up empty or meaningless category values which will serve as the basis for our clustering. Also remove stopwords that do not provide meaningful information on the product, such as \"Baby\" or \"Product\"."
   ]
  },
  {
   "cell_type": "code",
   "execution_count": 1,
   "id": "07441f94",
   "metadata": {},
   "outputs": [
    {
     "name": "stderr",
     "output_type": "stream",
     "text": [
      "/Users/adamng/miniconda3/envs/babyml/lib/python3.10/site-packages/tqdm/auto.py:21: TqdmWarning: IProgress not found. Please update jupyter and ipywidgets. See https://ipywidgets.readthedocs.io/en/stable/user_install.html\n",
      "  from .autonotebook import tqdm as notebook_tqdm\n"
     ]
    }
   ],
   "source": [
    "# Load necessary libraries for pre-processing and clustering\n",
    "\n",
    "# Pre-processing\n",
    "import pandas as pd # Used throughout to make text processing and data processing easier\n",
    "import re # Provides regular expression (regex) support\n",
    "\n",
    "# Embeddings\n",
    "from sentence_transformers import SentenceTransformer\n",
    "\n",
    "# PCA and KMeans Clustering\n",
    "from sklearn.decomposition import PCA\n",
    "from sklearn.cluster import KMeans\n",
    "from sklearn.metrics import silhouette_score\n",
    "\n",
    "# UMAP and HDBSCAN Clustering\n",
    "from umap import UMAP\n",
    "from sklearn.preprocessing import normalize\n",
    "import hdbscan\n",
    "from hdbscan.validity import validity_index\n",
    "import numpy as np\n",
    "\n",
    "# Cluster Visualization\n",
    "from sklearn.decomposition import PCA\n",
    "import seaborn as sns\n",
    "import matplotlib.pyplot as plt"
   ]
  },
  {
   "cell_type": "code",
   "execution_count": 2,
   "id": "e3f8c2bd",
   "metadata": {},
   "outputs": [
    {
     "name": "stderr",
     "output_type": "stream",
     "text": [
      "/var/folders/31/nfkt6j8n27lbjf69r6vs1jpc0000gn/T/ipykernel_18171/3804158108.py:3: DtypeWarning: Columns (15) have mixed types. Specify dtype option on import or set low_memory=False.\n",
      "  names = pd.read_csv(file_path)\n"
     ]
    }
   ],
   "source": [
    "# Load the file of baby products that was extracted from the Julian McAuley dataset of Amazon reviews\n",
    "file_path = \"/Volumes/Samsung1TB/programming/data-science/baby-product-dashboard/raw-data/baby_product_names.csv\"\n",
    "names = pd.read_csv(file_path)"
   ]
  },
  {
   "cell_type": "code",
   "execution_count": 3,
   "id": "7b28e407",
   "metadata": {},
   "outputs": [],
   "source": [
    "# Prepare the categories column for KMeans clustering. Specifically, if it contains meaningless text, such as [], \n",
    "# replace this with more meaningful text \n",
    "\n",
    "# Redefine df \n",
    "df = names\n",
    "\n",
    "# Create a function to replace missing or '[]' values in the categories_clean column\n",
    "def cat_replacement(row):\n",
    "    for col in ['categories', 'title', 'description', 'details']:\n",
    "        val = str(row[col]).strip()\n",
    "        if val not in ['', '[]']:\n",
    "            return val\n",
    "    return '' # fallback if all are blank\n",
    "\n",
    "# Call the function\n",
    "df['category_select'] = df.apply(cat_replacement, axis = 1)\n",
    "\n",
    "# Make sure the categories column is a string. Fill missing values first and convert all values to lowercase\n",
    "df['categories_clean'] = df['category_select'].astype('string').fillna('').str.lower()"
   ]
  },
  {
   "cell_type": "code",
   "execution_count": 7,
   "id": "84216575",
   "metadata": {},
   "outputs": [],
   "source": [
    "# Develop process for removing stopwords and special characters to improve embeddings\n",
    "\n",
    "# Define domain specific stopwords: \n",
    "stopwords = {\n",
    "    'baby', 'product', 'products', 'infant', 'newborn', 'brand', 'pack', 'size',\n",
    "    'new'\n",
    "}\n",
    "\n",
    "# Function to clean special characters and domain specific stopwords\n",
    "def clean_text(text):\n",
    "    if not isinstance(text, str):\n",
    "        return \"\"\n",
    "\n",
    "    # Remove square brackets, squiggly brackets, colon, semi-colon, and comma\n",
    "    text = re.sub(r'[\\[\\]\\{\\}\\:\\;\\,]', '', text)\n",
    "\n",
    "    # Remove quotes\n",
    "    text = text.replace(\"'\", \"\").replace('\"', '')\n",
    "\n",
    "    # Normalize whitespace\n",
    "    text = re.sub(r'\\s+', ' ', text)\n",
    "\n",
    "    # Lowercase\n",
    "    text = text.lower()\n",
    "\n",
    "    # Split words (may not be necessary anymore now that we're not using stopwords )\n",
    "    words = text.split()\n",
    "    filtered_words = [word for word in words if word not in stopwords]\n",
    "\n",
    "    return ' '.join(filtered_words).strip()\n",
    "\n",
    "# Call the above function to remove special characters and whitespace from the categories_clean field\n",
    "df['categories_clean'] = df['categories_clean'].apply(clean_text)"
   ]
  },
  {
   "cell_type": "code",
   "execution_count": 8,
   "id": "38342987",
   "metadata": {},
   "outputs": [
    {
     "data": {
      "text/html": [
       "<div>\n",
       "<style scoped>\n",
       "    .dataframe tbody tr th:only-of-type {\n",
       "        vertical-align: middle;\n",
       "    }\n",
       "\n",
       "    .dataframe tbody tr th {\n",
       "        vertical-align: top;\n",
       "    }\n",
       "\n",
       "    .dataframe thead th {\n",
       "        text-align: right;\n",
       "    }\n",
       "</style>\n",
       "<table border=\"1\" class=\"dataframe\">\n",
       "  <thead>\n",
       "    <tr style=\"text-align: right;\">\n",
       "      <th></th>\n",
       "      <th>main_category</th>\n",
       "      <th>title</th>\n",
       "      <th>average_rating</th>\n",
       "      <th>rating_number</th>\n",
       "      <th>features</th>\n",
       "      <th>description</th>\n",
       "      <th>price</th>\n",
       "      <th>images</th>\n",
       "      <th>videos</th>\n",
       "      <th>store</th>\n",
       "      <th>categories</th>\n",
       "      <th>details</th>\n",
       "      <th>parent_asin</th>\n",
       "      <th>bought_together</th>\n",
       "      <th>subtitle</th>\n",
       "      <th>author</th>\n",
       "      <th>category_select</th>\n",
       "      <th>categories_clean</th>\n",
       "    </tr>\n",
       "  </thead>\n",
       "  <tbody>\n",
       "  </tbody>\n",
       "</table>\n",
       "</div>"
      ],
      "text/plain": [
       "Empty DataFrame\n",
       "Columns: [main_category, title, average_rating, rating_number, features, description, price, images, videos, store, categories, details, parent_asin, bought_together, subtitle, author, category_select, categories_clean]\n",
       "Index: []"
      ]
     },
     "execution_count": 8,
     "metadata": {},
     "output_type": "execute_result"
    }
   ],
   "source": [
    "# Confirm that none of the category values are blank or []\n",
    "df[df['categories_clean'].isin([\"\", \"[]\"])]"
   ]
  },
  {
   "cell_type": "code",
   "execution_count": 9,
   "id": "842b9f8c",
   "metadata": {},
   "outputs": [
    {
     "data": {
      "text/html": [
       "<div>\n",
       "<style scoped>\n",
       "    .dataframe tbody tr th:only-of-type {\n",
       "        vertical-align: middle;\n",
       "    }\n",
       "\n",
       "    .dataframe tbody tr th {\n",
       "        vertical-align: top;\n",
       "    }\n",
       "\n",
       "    .dataframe thead th {\n",
       "        text-align: right;\n",
       "    }\n",
       "</style>\n",
       "<table border=\"1\" class=\"dataframe\">\n",
       "  <thead>\n",
       "    <tr style=\"text-align: right;\">\n",
       "      <th></th>\n",
       "      <th>main_category</th>\n",
       "      <th>title</th>\n",
       "      <th>average_rating</th>\n",
       "      <th>rating_number</th>\n",
       "      <th>features</th>\n",
       "      <th>description</th>\n",
       "      <th>price</th>\n",
       "      <th>images</th>\n",
       "      <th>videos</th>\n",
       "      <th>store</th>\n",
       "      <th>categories</th>\n",
       "      <th>details</th>\n",
       "      <th>parent_asin</th>\n",
       "      <th>bought_together</th>\n",
       "      <th>subtitle</th>\n",
       "      <th>author</th>\n",
       "      <th>category_select</th>\n",
       "      <th>categories_clean</th>\n",
       "    </tr>\n",
       "  </thead>\n",
       "  <tbody>\n",
       "    <tr>\n",
       "      <th>0</th>\n",
       "      <td>Baby</td>\n",
       "      <td>Chicco Viaro Travel System, Teak</td>\n",
       "      <td>4.6</td>\n",
       "      <td>125</td>\n",
       "      <td>['Aluminum' 'Imported'\\n 'Convenient one-hand ...</td>\n",
       "      <td>['Product Description'\\n 'For ultimate conveni...</td>\n",
       "      <td>NaN</td>\n",
       "      <td>{'hi_res': array(['https://m.media-amazon.com/...</td>\n",
       "      <td>{'title': array(['Viaro Demo Video', 'Chicco V...</td>\n",
       "      <td>Chicco</td>\n",
       "      <td>['Baby Products' 'Strollers &amp; Accessories' 'St...</td>\n",
       "      <td>{\"Product Dimensions\": \"38 x 41.25 x 25.5 inch...</td>\n",
       "      <td>B01C4319LO</td>\n",
       "      <td>NaN</td>\n",
       "      <td>NaN</td>\n",
       "      <td>NaN</td>\n",
       "      <td>['Baby Products' 'Strollers &amp; Accessories' 'St...</td>\n",
       "      <td>strollers &amp; accessories strollers travel systems</td>\n",
       "    </tr>\n",
       "    <tr>\n",
       "      <th>1</th>\n",
       "      <td>AMAZON FASHION</td>\n",
       "      <td>Kisbaby Four Layers Muslin Lightweight Unisex ...</td>\n",
       "      <td>5.0</td>\n",
       "      <td>2</td>\n",
       "      <td>['95% Cotton, 4 Layer Muslin, Hand Wash in Col...</td>\n",
       "      <td>['You can choose bigger size If you confuse ab...</td>\n",
       "      <td>NaN</td>\n",
       "      <td>{'hi_res': array(['https://m.media-amazon.com/...</td>\n",
       "      <td>{'title': array([], dtype=object), 'url': arra...</td>\n",
       "      <td>Kisbaby</td>\n",
       "      <td>['Baby Products' 'Nursery' 'Bedding' 'Blankets...</td>\n",
       "      <td>{\"Material\": \"Muslin\", \"Color\": \"Blue Star\", \"...</td>\n",
       "      <td>B07FM4MJJP</td>\n",
       "      <td>NaN</td>\n",
       "      <td>NaN</td>\n",
       "      <td>NaN</td>\n",
       "      <td>['Baby Products' 'Nursery' 'Bedding' 'Blankets...</td>\n",
       "      <td>nursery bedding blankets &amp; swaddling wearable ...</td>\n",
       "    </tr>\n",
       "    <tr>\n",
       "      <th>2</th>\n",
       "      <td>Baby</td>\n",
       "      <td>EZTOTZ Meals with Milton - USA Made Toddler &amp; ...</td>\n",
       "      <td>4.4</td>\n",
       "      <td>37</td>\n",
       "      <td>['WHAT IS MILTON?: Milton is the fun way for y...</td>\n",
       "      <td>[]</td>\n",
       "      <td>22.99</td>\n",
       "      <td>{'hi_res': array(['https://m.media-amazon.com/...</td>\n",
       "      <td>{'title': array([], dtype=object), 'url': arra...</td>\n",
       "      <td>EZTOTZ</td>\n",
       "      <td>[]</td>\n",
       "      <td>{\"Package Dimensions\": \"6.3 x 5 x 4.76 inches\"...</td>\n",
       "      <td>B08WCG372G</td>\n",
       "      <td>NaN</td>\n",
       "      <td>NaN</td>\n",
       "      <td>NaN</td>\n",
       "      <td>EZTOTZ Meals with Milton - USA Made Toddler &amp; ...</td>\n",
       "      <td>eztotz meals with milton - usa made toddler &amp; ...</td>\n",
       "    </tr>\n",
       "    <tr>\n",
       "      <th>3</th>\n",
       "      <td>Baby</td>\n",
       "      <td>Nuby iMonster Toddler Bowl</td>\n",
       "      <td>4.4</td>\n",
       "      <td>52</td>\n",
       "      <td>['Makes feeding fun for baby and easier for pa...</td>\n",
       "      <td>['When babies begin to show interest in feedin...</td>\n",
       "      <td>NaN</td>\n",
       "      <td>{'hi_res': array(['https://m.media-amazon.com/...</td>\n",
       "      <td>{'title': array([], dtype=object), 'url': arra...</td>\n",
       "      <td>Nuby</td>\n",
       "      <td>['Baby Products' 'Feeding' 'Solid Feeding' 'Di...</td>\n",
       "      <td>{\"Product Dimensions\": \"2.75 x 5 x 7.5 inches\"...</td>\n",
       "      <td>B0083SXABC</td>\n",
       "      <td>NaN</td>\n",
       "      <td>NaN</td>\n",
       "      <td>NaN</td>\n",
       "      <td>['Baby Products' 'Feeding' 'Solid Feeding' 'Di...</td>\n",
       "      <td>feeding solid feeding dishes</td>\n",
       "    </tr>\n",
       "    <tr>\n",
       "      <th>4</th>\n",
       "      <td>Amazon Home</td>\n",
       "      <td>mDesign Slim Storage Organizer Container Bin w...</td>\n",
       "      <td>4.5</td>\n",
       "      <td>235</td>\n",
       "      <td>['SMART STORAGE: This large capacity slim bin ...</td>\n",
       "      <td>[\"The mDesign clear storage bins for kids supp...</td>\n",
       "      <td>NaN</td>\n",
       "      <td>{'hi_res': array(['https://m.media-amazon.com/...</td>\n",
       "      <td>{'title': array([], dtype=object), 'url': arra...</td>\n",
       "      <td>mDesign</td>\n",
       "      <td>['Baby Products' 'Nursery' 'Furniture' 'Storag...</td>\n",
       "      <td>{\"Product Dimensions\": \"14.62 x 4 x 4 inches\",...</td>\n",
       "      <td>B07N8GRHHK</td>\n",
       "      <td>NaN</td>\n",
       "      <td>NaN</td>\n",
       "      <td>NaN</td>\n",
       "      <td>['Baby Products' 'Nursery' 'Furniture' 'Storag...</td>\n",
       "      <td>nursery furniture storage &amp; organization stora...</td>\n",
       "    </tr>\n",
       "  </tbody>\n",
       "</table>\n",
       "</div>"
      ],
      "text/plain": [
       "    main_category  ...                                   categories_clean\n",
       "0            Baby  ...   strollers & accessories strollers travel systems\n",
       "1  AMAZON FASHION  ...  nursery bedding blankets & swaddling wearable ...\n",
       "2            Baby  ...  eztotz meals with milton - usa made toddler & ...\n",
       "3            Baby  ...                       feeding solid feeding dishes\n",
       "4     Amazon Home  ...  nursery furniture storage & organization stora...\n",
       "\n",
       "[5 rows x 18 columns]"
      ]
     },
     "execution_count": 9,
     "metadata": {},
     "output_type": "execute_result"
    }
   ],
   "source": [
    "# Check the first few observations of the resulting dataframe to ensure it is ready for clustering\n",
    "df.head()"
   ]
  },
  {
   "cell_type": "markdown",
   "id": "547ed7d1",
   "metadata": {},
   "source": [
    "## K-Means Clustering\n",
    "\n",
    "We will run the process for clustering via K-Means. We will also perform the process of elbowing to see at what point the clusters are most efficient. Once we identify the point of the most efficient clusters, we will output the resulting dataset as an Excel file."
   ]
  },
  {
   "cell_type": "code",
   "execution_count": null,
   "id": "e810aa1c",
   "metadata": {},
   "outputs": [
    {
     "name": "stderr",
     "output_type": "stream",
     "text": [
      "Batches: 100%|██████████| 6804/6804 [00:43<00:00, 158.21it/s]\n"
     ]
    }
   ],
   "source": [
    "# Create a field within our dataset named text that we will use for the embeddings\n",
    "df_kmeans = df.dropna(subset = 'categories_clean') # This shouldn't do anything, since we know there are no NaN from earlier\n",
    "df_kmeans['text'] = df['categories_clean'].astype(str)\n",
    "\n",
    "# Load and apply the model to the dataframe for embeddings\n",
    "model = SentenceTransformer('all-MiniLM-L6-v2')\n",
    "embeddings = model.encode(df_kmeans['text'].tolist(), show_progress_bar = True)"
   ]
  },
  {
   "cell_type": "code",
   "execution_count": 11,
   "id": "c40c334f",
   "metadata": {},
   "outputs": [],
   "source": [
    "# Reduce to 50 dimensions for better KMeans performance\n",
    "pca = PCA(n_components = 50)\n",
    "reduced_embeddings = pca.fit_transform(embeddings)"
   ]
  },
  {
   "cell_type": "code",
   "execution_count": null,
   "id": "c7acdf76",
   "metadata": {},
   "outputs": [
    {
     "name": "stderr",
     "output_type": "stream",
     "text": [
      "huggingface/tokenizers: The current process just got forked, after parallelism has already been used. Disabling parallelism to avoid deadlocks...\n",
      "To disable this warning, you can either:\n",
      "\t- Avoid using `tokenizers` before the fork if possible\n",
      "\t- Explicitly set the environment variable TOKENIZERS_PARALLELISM=(true | false)\n"
     ]
    },
    {
     "name": "stdout",
     "output_type": "stream",
     "text": [
      "k=10 → Silhouette Score: 0.304\n",
      "k=11 → Silhouette Score: 0.325\n",
      "k=12 → Silhouette Score: 0.318\n",
      "k=13 → Silhouette Score: 0.350\n",
      "k=14 → Silhouette Score: 0.351\n",
      "k=15 → Silhouette Score: 0.364\n",
      "k=16 → Silhouette Score: 0.375\n",
      "k=17 → Silhouette Score: 0.379\n",
      "k=18 → Silhouette Score: 0.395\n",
      "k=19 → Silhouette Score: 0.395\n",
      "k=20 → Silhouette Score: 0.414\n",
      "k=21 → Silhouette Score: 0.426\n",
      "k=22 → Silhouette Score: 0.435\n",
      "k=23 → Silhouette Score: 0.435\n",
      "k=24 → Silhouette Score: 0.449\n",
      "k=25 → Silhouette Score: 0.461\n",
      "k=26 → Silhouette Score: 0.463\n",
      "k=27 → Silhouette Score: 0.465\n",
      "k=28 → Silhouette Score: 0.475\n",
      "k=29 → Silhouette Score: 0.482\n"
     ]
    }
   ],
   "source": [
    "# Perform elbowing - identify what number of clusters provides the most meaningful results\n",
    "inertias = []\n",
    "k_range = range(10, 31) \n",
    "\n",
    "for k in k_range:  # Try a range of values\n",
    "    km = KMeans(n_clusters = k, random_state = 42, n_init = 10)\n",
    "    labels = km.fit_predict(reduced_embeddings)  # or raw embeddings\n",
    "    score = silhouette_score(reduced_embeddings, labels)\n",
    "    print(f\"k = {k} → Silhouette Score: {score:.3f}\")"
   ]
  },
  {
   "cell_type": "code",
   "execution_count": null,
   "id": "41cb7c2c",
   "metadata": {},
   "outputs": [],
   "source": [
    "# Plot the elbow curve\n",
    "# Prepare data for seaborn\n",
    "elbow_df = pd.DataFrame({\n",
    "    'k': list(k_range),\n",
    "    'inertia': inertias\n",
    "})\n",
    "\n",
    "# Plot using seaborn\n",
    "plt.figure(figsize = (10, 6))\n",
    "sns.lineplot(data = elbow_df, x = 'k', y = 'inertia', marker = 'o')\n",
    "plt.title('Elbow Method for Optimal Number of Clusters', fontsize = 14)\n",
    "plt.xlabel('Number of Clusters (k)', fontsize = 12)\n",
    "plt.ylabel('Inertia (Within-Cluster Sum of Squares)', fontsize = 12)\n",
    "plt.grid(True)\n",
    "plt.xticks(list(k_range)[::5])  # Show every 5th tick for clarity\n",
    "plt.tight_layout()\n",
    "plt.show()"
   ]
  }
 ],
 "metadata": {
  "kernelspec": {
   "display_name": "babyml",
   "language": "python",
   "name": "python3"
  },
  "language_info": {
   "codemirror_mode": {
    "name": "ipython",
    "version": 3
   },
   "file_extension": ".py",
   "mimetype": "text/x-python",
   "name": "python",
   "nbconvert_exporter": "python",
   "pygments_lexer": "ipython3",
   "version": "3.10.17"
  }
 },
 "nbformat": 4,
 "nbformat_minor": 5
}
