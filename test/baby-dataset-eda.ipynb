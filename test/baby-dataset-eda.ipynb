{
 "cells": [
  {
   "cell_type": "code",
   "execution_count": null,
   "id": "0453c913",
   "metadata": {},
   "outputs": [],
   "source": [
    "# 5/28/2025\n",
    "# Jupyter Notebook for extracting the Julian McAuley dataset of Amazon reviews. Specifically, I wish to pull baby products\n",
    "# Will save this on an external drive to free up some space"
   ]
  },
  {
   "cell_type": "code",
   "execution_count": 2,
   "id": "c3e8e0cf",
   "metadata": {},
   "outputs": [
    {
     "name": "stderr",
     "output_type": "stream",
     "text": [
      "/Users/adamng/miniconda3/envs/babyml/lib/python3.10/site-packages/tqdm/auto.py:21: TqdmWarning: IProgress not found. Please update jupyter and ipywidgets. See https://ipywidgets.readthedocs.io/en/stable/user_install.html\n",
      "  from .autonotebook import tqdm as notebook_tqdm\n"
     ]
    }
   ],
   "source": [
    "# Initialize necessary packages\n",
    "import pandas as pd # For data manipulation\n",
    "from datasets import load_dataset, config # contains the baby dataset\n",
    "import shutil # Use to clear the cache of this dataframe\n",
    "import os # Use to clear the cache of this dataframe"
   ]
  },
  {
   "cell_type": "code",
   "execution_count": 23,
   "id": "6e1c0f48",
   "metadata": {},
   "outputs": [
    {
     "name": "stderr",
     "output_type": "stream",
     "text": [
      "Generating full split: 6028884 examples [01:02, 96657.99 examples/s]\n"
     ]
    },
    {
     "name": "stdout",
     "output_type": "stream",
     "text": [
      "Loaded 6028884 baby product reviews\n"
     ]
    }
   ],
   "source": [
    "# Loads the baby dataset into a dataframe\n",
    "# We are not splitting into training or testing - in this case, train contains all of the data\n",
    "baby_products_raw = load_dataset(\"McAuley-Lab/Amazon-Reviews-2023\", name = \"raw_review_Baby_Products\", split = \"full\", \n",
    "                                 trust_remote_code = True)\n",
    "baby_products = baby_products_raw.to_pandas()\n",
    "\n",
    "print(f\"Loaded {len(baby_products)} baby product reviews\")"
   ]
  },
  {
   "cell_type": "code",
   "execution_count": 24,
   "id": "fbf8cd13",
   "metadata": {},
   "outputs": [
    {
     "data": {
      "text/html": [
       "<div>\n",
       "<style scoped>\n",
       "    .dataframe tbody tr th:only-of-type {\n",
       "        vertical-align: middle;\n",
       "    }\n",
       "\n",
       "    .dataframe tbody tr th {\n",
       "        vertical-align: top;\n",
       "    }\n",
       "\n",
       "    .dataframe thead th {\n",
       "        text-align: right;\n",
       "    }\n",
       "</style>\n",
       "<table border=\"1\" class=\"dataframe\">\n",
       "  <thead>\n",
       "    <tr style=\"text-align: right;\">\n",
       "      <th></th>\n",
       "      <th>rating</th>\n",
       "      <th>title</th>\n",
       "      <th>text</th>\n",
       "      <th>images</th>\n",
       "      <th>asin</th>\n",
       "      <th>parent_asin</th>\n",
       "      <th>user_id</th>\n",
       "      <th>timestamp</th>\n",
       "      <th>helpful_vote</th>\n",
       "      <th>verified_purchase</th>\n",
       "    </tr>\n",
       "  </thead>\n",
       "  <tbody>\n",
       "    <tr>\n",
       "      <th>0</th>\n",
       "      <td>4.0</td>\n",
       "      <td>Good buy for preschool naps and home use...</td>\n",
       "      <td>I bought two of these for my kids for nap time...</td>\n",
       "      <td>[]</td>\n",
       "      <td>B004FM7VOW</td>\n",
       "      <td>B089MS68G8</td>\n",
       "      <td>AGKASBHYZPGTEPO6LWZPVJWB2BVA</td>\n",
       "      <td>1471546337000</td>\n",
       "      <td>1</td>\n",
       "      <td>True</td>\n",
       "    </tr>\n",
       "    <tr>\n",
       "      <th>1</th>\n",
       "      <td>5.0</td>\n",
       "      <td>THEY WORK- and are super cute to boot...</td>\n",
       "      <td>LOVE THESE! AND THEY WORK!!! I was on the fenc...</td>\n",
       "      <td>[]</td>\n",
       "      <td>B01E5E703G</td>\n",
       "      <td>B01E5E703G</td>\n",
       "      <td>AGKASBHYZPGTEPO6LWZPVJWB2BVA</td>\n",
       "      <td>1471542244000</td>\n",
       "      <td>1</td>\n",
       "      <td>True</td>\n",
       "    </tr>\n",
       "    <tr>\n",
       "      <th>2</th>\n",
       "      <td>1.0</td>\n",
       "      <td>cute but small and pretty much unusable as a c...</td>\n",
       "      <td>cute but small and pretty much unusable as a c...</td>\n",
       "      <td>[]</td>\n",
       "      <td>B00F463XV8</td>\n",
       "      <td>B00F9386Q8</td>\n",
       "      <td>AGKASBHYZPGTEPO6LWZPVJWB2BVA</td>\n",
       "      <td>1452650881000</td>\n",
       "      <td>0</td>\n",
       "      <td>True</td>\n",
       "    </tr>\n",
       "    <tr>\n",
       "      <th>3</th>\n",
       "      <td>5.0</td>\n",
       "      <td>Works great perfect size!</td>\n",
       "      <td>I have lots of different disposable diaper bag...</td>\n",
       "      <td>[]</td>\n",
       "      <td>B0007V644S</td>\n",
       "      <td>B07RRDX26B</td>\n",
       "      <td>AGCI7FAH4GL5FI65HYLKWTMFZ2CQ</td>\n",
       "      <td>1408994051000</td>\n",
       "      <td>0</td>\n",
       "      <td>True</td>\n",
       "    </tr>\n",
       "    <tr>\n",
       "      <th>4</th>\n",
       "      <td>5.0</td>\n",
       "      <td>Cute and Works Great</td>\n",
       "      <td>I was so excited for bath time when I register...</td>\n",
       "      <td>[]</td>\n",
       "      <td>B002LARFLY</td>\n",
       "      <td>B00OLRJET6</td>\n",
       "      <td>AGCI7FAH4GL5FI65HYLKWTMFZ2CQ</td>\n",
       "      <td>1349818961000</td>\n",
       "      <td>0</td>\n",
       "      <td>False</td>\n",
       "    </tr>\n",
       "  </tbody>\n",
       "</table>\n",
       "</div>"
      ],
      "text/plain": [
       "   rating                                              title  \\\n",
       "0     4.0        Good buy for preschool naps and home use...   \n",
       "1     5.0           THEY WORK- and are super cute to boot...   \n",
       "2     1.0  cute but small and pretty much unusable as a c...   \n",
       "3     5.0                          Works great perfect size!   \n",
       "4     5.0                               Cute and Works Great   \n",
       "\n",
       "                                                text images        asin  \\\n",
       "0  I bought two of these for my kids for nap time...     []  B004FM7VOW   \n",
       "1  LOVE THESE! AND THEY WORK!!! I was on the fenc...     []  B01E5E703G   \n",
       "2  cute but small and pretty much unusable as a c...     []  B00F463XV8   \n",
       "3  I have lots of different disposable diaper bag...     []  B0007V644S   \n",
       "4  I was so excited for bath time when I register...     []  B002LARFLY   \n",
       "\n",
       "  parent_asin                       user_id      timestamp  helpful_vote  \\\n",
       "0  B089MS68G8  AGKASBHYZPGTEPO6LWZPVJWB2BVA  1471546337000             1   \n",
       "1  B01E5E703G  AGKASBHYZPGTEPO6LWZPVJWB2BVA  1471542244000             1   \n",
       "2  B00F9386Q8  AGKASBHYZPGTEPO6LWZPVJWB2BVA  1452650881000             0   \n",
       "3  B07RRDX26B  AGCI7FAH4GL5FI65HYLKWTMFZ2CQ  1408994051000             0   \n",
       "4  B00OLRJET6  AGCI7FAH4GL5FI65HYLKWTMFZ2CQ  1349818961000             0   \n",
       "\n",
       "   verified_purchase  \n",
       "0               True  \n",
       "1               True  \n",
       "2               True  \n",
       "3               True  \n",
       "4              False  "
      ]
     },
     "execution_count": 24,
     "metadata": {},
     "output_type": "execute_result"
    }
   ],
   "source": [
    "# See how this dataframe is structured\n",
    "baby_products.head()"
   ]
  },
  {
   "cell_type": "code",
   "execution_count": null,
   "id": "eb6e6132",
   "metadata": {},
   "outputs": [
    {
     "name": "stdout",
     "output_type": "stream",
     "text": [
      "DataFrame saved to /Volumes/Samsung1TB/programming/data-science/baby-product-dashboard/raw-data/baby_products.csv\n"
     ]
    }
   ],
   "source": [
    "# Save this code to my external drive\n",
    "external_drive_path = \"/Volumes/Samsung1TB/programming/data-science/baby-product-dashboard/raw-data/baby_products.csv\"\n",
    "baby_products.to_csv(external_drive_path, index = False)\n",
    "print(f\"DataFrame saved to {external_drive_path}\")"
   ]
  },
  {
   "cell_type": "code",
   "execution_count": 5,
   "id": "a168a6cb",
   "metadata": {},
   "outputs": [
    {
     "name": "stdout",
     "output_type": "stream",
     "text": [
      "Loaded 217724 baby product names\n"
     ]
    }
   ],
   "source": [
    "# The previous dataset just has the reviews for sentiment analysis - we also need the product names\n",
    "meta = load_dataset(\"McAuley-Lab/Amazon-Reviews-2023\", \"raw_meta_Baby_Products\", split = \"full\",\n",
    "    trust_remote_code = True)\n",
    "\n",
    "baby_product_names = meta.to_pandas()\n",
    "\n",
    "print(f\"Loaded {len(baby_product_names)} baby product names\")"
   ]
  },
  {
   "cell_type": "code",
   "execution_count": 6,
   "id": "49e06433",
   "metadata": {},
   "outputs": [
    {
     "name": "stdout",
     "output_type": "stream",
     "text": [
      "DataFrame saved to /Volumes/Samsung1TB/programming/data-science/baby-product-dashboard/raw-data/baby_product_names.csv\n"
     ]
    }
   ],
   "source": [
    "# Save this dataset to the external drive\n",
    "external_drive_path = \"/Volumes/Samsung1TB/programming/data-science/baby-product-dashboard/raw-data/baby_product_names.csv\"\n",
    "baby_product_names.to_csv(external_drive_path, index = False)\n",
    "print(f\"DataFrame saved to {external_drive_path}\")"
   ]
  },
  {
   "cell_type": "code",
   "execution_count": 7,
   "id": "0dbf71b8",
   "metadata": {},
   "outputs": [
    {
     "name": "stdout",
     "output_type": "stream",
     "text": [
      "Deleting: /Users/adamng/.cache/huggingface/datasets/McAuley-Lab___amazon-reviews-2023/raw_meta_Baby_Products\n"
     ]
    }
   ],
   "source": [
    "# The following code cleans up the cache and gets back some memory this dataframe takes up\n",
    "\n",
    "# Get Hugging Face datasets cache directory\n",
    "cache_dir = config.HF_DATASETS_CACHE\n",
    "\n",
    "# List all subdirectories to help locate the Baby Products dataset\n",
    "for root, dirs, files in os.walk(cache_dir):\n",
    "    for d in dirs:\n",
    "        if \"Baby_Products\" in d:\n",
    "            full_path = os.path.join(root, d)\n",
    "            print(\"Deleting:\", full_path)\n",
    "            shutil.rmtree(full_path)"
   ]
  }
 ],
 "metadata": {
  "kernelspec": {
   "display_name": "babyml",
   "language": "python",
   "name": "python3"
  },
  "language_info": {
   "codemirror_mode": {
    "name": "ipython",
    "version": 3
   },
   "file_extension": ".py",
   "mimetype": "text/x-python",
   "name": "python",
   "nbconvert_exporter": "python",
   "pygments_lexer": "ipython3",
   "version": "3.10.17"
  }
 },
 "nbformat": 4,
 "nbformat_minor": 5
}
